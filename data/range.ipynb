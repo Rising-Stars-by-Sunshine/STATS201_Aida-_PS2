{
 "cells": [
  {
   "cell_type": "code",
   "execution_count": 12,
   "metadata": {},
   "outputs": [
    {
     "data": {
      "text/html": [
       "<div>\n",
       "<style scoped>\n",
       "    .dataframe tbody tr th:only-of-type {\n",
       "        vertical-align: middle;\n",
       "    }\n",
       "\n",
       "    .dataframe tbody tr th {\n",
       "        vertical-align: top;\n",
       "    }\n",
       "\n",
       "    .dataframe thead th {\n",
       "        text-align: right;\n",
       "    }\n",
       "</style>\n",
       "<table border=\"1\" class=\"dataframe\">\n",
       "  <thead>\n",
       "    <tr style=\"text-align: right;\">\n",
       "      <th></th>\n",
       "      <th>Variable Name</th>\n",
       "      <th>Range</th>\n",
       "    </tr>\n",
       "  </thead>\n",
       "  <tbody>\n",
       "    <tr>\n",
       "      <th>0</th>\n",
       "      <td>year</td>\n",
       "      <td>1900 - 2022</td>\n",
       "    </tr>\n",
       "    <tr>\n",
       "      <th>1</th>\n",
       "      <td>population</td>\n",
       "      <td>1833.0 - 7975105024.0</td>\n",
       "    </tr>\n",
       "    <tr>\n",
       "      <th>2</th>\n",
       "      <td>gdp</td>\n",
       "      <td>164206000.0 - 113630171365376.0</td>\n",
       "    </tr>\n",
       "    <tr>\n",
       "      <th>3</th>\n",
       "      <td>biofuel_cons_change_pct</td>\n",
       "      <td>-100.0 - 5659.328</td>\n",
       "    </tr>\n",
       "    <tr>\n",
       "      <th>4</th>\n",
       "      <td>biofuel_cons_change_twh</td>\n",
       "      <td>-50.843 - 141.131</td>\n",
       "    </tr>\n",
       "    <tr>\n",
       "      <th>...</th>\n",
       "      <td>...</td>\n",
       "      <td>...</td>\n",
       "    </tr>\n",
       "    <tr>\n",
       "      <th>122</th>\n",
       "      <td>wind_elec_per_capita</td>\n",
       "      <td>0.0 - 3218.151</td>\n",
       "    </tr>\n",
       "    <tr>\n",
       "      <th>123</th>\n",
       "      <td>wind_electricity</td>\n",
       "      <td>0.0 - 2098.46</td>\n",
       "    </tr>\n",
       "    <tr>\n",
       "      <th>124</th>\n",
       "      <td>wind_energy_per_capita</td>\n",
       "      <td>0.0 - 8422.012</td>\n",
       "    </tr>\n",
       "    <tr>\n",
       "      <th>125</th>\n",
       "      <td>wind_share_elec</td>\n",
       "      <td>0.0 - 56.84</td>\n",
       "    </tr>\n",
       "    <tr>\n",
       "      <th>126</th>\n",
       "      <td>wind_share_energy</td>\n",
       "      <td>0.0 - 26.157</td>\n",
       "    </tr>\n",
       "  </tbody>\n",
       "</table>\n",
       "<p>127 rows × 2 columns</p>\n",
       "</div>"
      ],
      "text/plain": [
       "               Variable Name                            Range\n",
       "0                       year                      1900 - 2022\n",
       "1                 population            1833.0 - 7975105024.0\n",
       "2                        gdp  164206000.0 - 113630171365376.0\n",
       "3    biofuel_cons_change_pct                -100.0 - 5659.328\n",
       "4    biofuel_cons_change_twh                -50.843 - 141.131\n",
       "..                       ...                              ...\n",
       "122     wind_elec_per_capita                   0.0 - 3218.151\n",
       "123         wind_electricity                    0.0 - 2098.46\n",
       "124   wind_energy_per_capita                   0.0 - 8422.012\n",
       "125          wind_share_elec                      0.0 - 56.84\n",
       "126        wind_share_energy                     0.0 - 26.157\n",
       "\n",
       "[127 rows x 2 columns]"
      ]
     },
     "execution_count": 12,
     "metadata": {},
     "output_type": "execute_result"
    }
   ],
   "source": [
    "import pandas as pd\n",
    "\n",
    "# Load the dataset\n",
    "df = pd.read_csv(\"./Queried_data/owid-energy-data.csv\")\n",
    "\n",
    "# Select only numeric columns\n",
    "numeric_columns = df.select_dtypes(include=['int64', 'float64'])\n",
    "\n",
    "# Calculate the range for each numeric column\n",
    "range_data = numeric_columns.agg(['min', 'max'])\n",
    "\n",
    "# Create a DataFrame for the range data\n",
    "range_df = pd.DataFrame({'Variable Name': range_data.columns, 'Range': [f\"{range_data.loc['min', col]} - {range_data.loc['max', col]}\" for col in range_data.columns]})\n",
    "\n",
    "# Display the DataFrame\n",
    "range_df"
   ]
  },
  {
   "cell_type": "code",
   "execution_count": 13,
   "metadata": {},
   "outputs": [
    {
     "name": "stdout",
     "output_type": "stream",
     "text": [
      "CSV file saved successfully at 'variable_ranges.csv'\n"
     ]
    }
   ],
   "source": [
    "# Define the file path where you want to save the CSV file\n",
    "csv_file_path = \"variable_ranges.csv\"\n",
    "\n",
    "# Save the DataFrame to a CSV file\n",
    "range_df.to_csv(csv_file_path, index=False)\n",
    "\n",
    "print(f\"CSV file saved successfully at '{csv_file_path}'\")\n"
   ]
  }
 ],
 "metadata": {
  "kernelspec": {
   "display_name": "Python 3",
   "language": "python",
   "name": "python3"
  },
  "language_info": {
   "codemirror_mode": {
    "name": "ipython",
    "version": 3
   },
   "file_extension": ".py",
   "mimetype": "text/x-python",
   "name": "python",
   "nbconvert_exporter": "python",
   "pygments_lexer": "ipython3",
   "version": "3.10.9"
  }
 },
 "nbformat": 4,
 "nbformat_minor": 2
}
